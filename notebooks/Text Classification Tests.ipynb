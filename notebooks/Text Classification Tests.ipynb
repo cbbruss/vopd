{
 "cells": [
  {
   "cell_type": "code",
   "execution_count": 84,
   "metadata": {},
   "outputs": [],
   "source": [
    "import re\n",
    "import pandas as pd\n",
    "import numpy as np\n",
    "import seaborn as sns\n",
    "import matplotlib.pyplot as plt\n",
    "from gensim.utils import tokenize\n",
    "from sklearn.model_selection import train_test_split\n",
    "from sklearn.feature_extraction.text import CountVectorizer\n",
    "from sklearn.feature_extraction.text import TfidfTransformer\n",
    "from sklearn.naive_bayes import MultinomialNB\n",
    "from sklearn.metrics import roc_curve, auc\n",
    "from sklearn.linear_model import LogisticRegression"
   ]
  },
  {
   "cell_type": "code",
   "execution_count": 85,
   "metadata": {},
   "outputs": [],
   "source": [
    "new_df = pd.read_csv('../Updated_Data_2_6_All_Coding.csv')"
   ]
  },
  {
   "cell_type": "code",
   "execution_count": 86,
   "metadata": {},
   "outputs": [
    {
     "data": {
      "text/plain": [
       "0.2304994154000334"
      ]
     },
     "execution_count": 86,
     "metadata": {},
     "output_type": "execute_result"
    }
   ],
   "source": [
    "new_df['extract'] = new_df['extract'].astype(str)\n",
    "new_df['BINARY_CODE'] = new_df['code'] != 'n'\n",
    "new_df['BINARY_CODE'] = new_df['BINARY_CODE'].astype(int)\n",
    "sum(new_df['BINARY_CODE']) / len(new_df)"
   ]
  },
  {
   "cell_type": "code",
   "execution_count": 87,
   "metadata": {},
   "outputs": [],
   "source": [
    "def numericize_codes(x):\n",
    "    if x == 'n':\n",
    "        return 0\n",
    "    else:\n",
    "        return int(x)\n",
    "        \n",
    "new_df['numeric_code'] = new_df['code'].map(numericize_codes)"
   ]
  },
  {
   "cell_type": "code",
   "execution_count": 88,
   "metadata": {},
   "outputs": [],
   "source": [
    "def strip_num(x):\n",
    "    return re.sub('[0-9]', '', x)\n",
    "\n",
    "def strip_colon(x):\n",
    "    return re.sub(':', ' ', x)\n",
    "\n",
    "def strip_youtube(x):\n",
    "    new_x = re.sub('youtube.com', '', x.lower())\n",
    "    new_x = re.sub('watch inzvczly', '', new_x.lower())\n",
    "    new_x = re.sub('youtubehttps', '', new_x.lower())\n",
    "    new_x = re.sub('youtube', '', new_x.lower())\n",
    "    new_x = re.sub('bcwzrgivw', '', new_x.lower())\n",
    "    new_x = re.sub('xnffhyguy', '', new_x.lower())\n",
    "    new_x = re.sub('com/watch', '', new_x.lower())\n",
    "    new_x = re.sub('v=iaswsgbq/', '', new_x.lower())\n",
    "    new_x = re.sub('www', '', new_x)\n",
    "    new_x = re.sub('https', '', new_x)\n",
    "    new_x = re.sub('./watch ?', '', new_x)\n",
    "    new_x = re.sub('//full show', '', new_x)\n",
    "    new_x = re.sub('v=*/', '', new_x)\n",
    "    new_x = re.sub('_', ' ', new_x)\n",
    "    return new_x\n",
    "\n",
    "def strip_non_ascii(x):\n",
    "    new_str = []\n",
    "    for char in x:\n",
    "        if ord(char) <= 122:\n",
    "            new_str.append(char)\n",
    "    return ''.join(new_str)\n",
    "\n",
    "new_df['extract'] = new_df['extract'].map(strip_num)\n",
    "new_df['extract'] = new_df['extract'].map(strip_colon)\n",
    "new_df['extract'] = new_df['extract'].map(strip_youtube)\n",
    "new_df['extract'] = new_df['extract'].map(strip_non_ascii)"
   ]
  },
  {
   "cell_type": "code",
   "execution_count": 89,
   "metadata": {},
   "outputs": [],
   "source": [
    "# Create training dataset\n",
    "train_df, test_df = train_test_split(new_df, test_size=0.1, random_state=47)"
   ]
  },
  {
   "cell_type": "code",
   "execution_count": 90,
   "metadata": {},
   "outputs": [
    {
     "name": "stdout",
     "output_type": "stream",
     "text": [
      "(10776, 5000)\n",
      "(1198, 5000)\n"
     ]
    }
   ],
   "source": [
    "count_vect = CountVectorizer(stop_words=\"english\", ngram_range=(1,4), max_features=5000)\n",
    "X_train_counts = count_vect.fit_transform(train_df['extract'])\n",
    "X_test_counts = count_vect.transform(test_df['extract'])\n",
    "print(X_train_counts.shape)\n",
    "print(X_test_counts.shape)"
   ]
  },
  {
   "cell_type": "code",
   "execution_count": 91,
   "metadata": {},
   "outputs": [],
   "source": [
    "tfidf_transformer = TfidfTransformer()\n",
    "X_train_tfidf = tfidf_transformer.fit_transform(X_train_counts)\n",
    "X_test_tfidf = tfidf_transformer.transform(X_test_counts)"
   ]
  },
  {
   "cell_type": "code",
   "execution_count": 92,
   "metadata": {},
   "outputs": [],
   "source": [
    "nb_clf = MultinomialNB().fit(X_train_tfidf, train_df['BINARY_CODE'])"
   ]
  },
  {
   "cell_type": "code",
   "execution_count": 93,
   "metadata": {},
   "outputs": [
    {
     "data": {
      "text/plain": [
       "0.8138564273789649"
      ]
     },
     "execution_count": 93,
     "metadata": {},
     "output_type": "execute_result"
    }
   ],
   "source": [
    "nb_predicted = nb_clf.predict(X_test_tfidf)\n",
    "np.mean(nb_predicted == test_df['BINARY_CODE'])"
   ]
  },
  {
   "cell_type": "code",
   "execution_count": 94,
   "metadata": {},
   "outputs": [],
   "source": [
    "lr_clf = LogisticRegression(solver='lbfgs', penalty='l2').fit(X_train_tfidf, train_df['BINARY_CODE'])"
   ]
  },
  {
   "cell_type": "code",
   "execution_count": 95,
   "metadata": {},
   "outputs": [
    {
     "data": {
      "text/plain": [
       "0.8146911519198664"
      ]
     },
     "execution_count": 95,
     "metadata": {},
     "output_type": "execute_result"
    }
   ],
   "source": [
    "lr_predicted = lr_clf.predict(X_test_tfidf)\n",
    "lr_predicted_prob = lr_clf.predict_proba(X_test_tfidf)\n",
    "np.mean(lr_predicted == test_df['BINARY_CODE'])"
   ]
  },
  {
   "cell_type": "code",
   "execution_count": 96,
   "metadata": {},
   "outputs": [
    {
     "data": {
      "image/png": "[encoded data removed]",
      "text/plain": [
       "<Figure size 432x288 with 1 Axes>"
      ]
     },
     "metadata": {
      "needs_background": "light"
     },
     "output_type": "display_data"
    }
   ],
   "source": [
    "sns.distplot(lr_predicted_prob[:,1], label='predicted');\n",
    "sns.distplot(test_df['BINARY_CODE'], label=\"code\")\n",
    "plt.legend();"
   ]
  },
  {
   "cell_type": "code",
   "execution_count": 97,
   "metadata": {},
   "outputs": [],
   "source": [
    "fpr, tpr, _ = roc_curve(test_df['BINARY_CODE'], lr_predicted_prob[:,1])\n",
    "roc_auc = auc(fpr, tpr)\n",
    "\n",
    "fpr_micro, tpr_micro, _ = roc_curve(test_df['BINARY_CODE'].ravel(), lr_predicted_prob[:,1].ravel())\n",
    "roc_auc_micro = auc(fpr_micro, tpr_micro)"
   ]
  },
  {
   "cell_type": "code",
   "execution_count": 98,
   "metadata": {},
   "outputs": [
    {
     "data": {
      "image/png": "[encoded data removed]",
      "text/plain": [
       "<Figure size 432x288 with 1 Axes>"
      ]
     },
     "metadata": {
      "needs_background": "light"
     },
     "output_type": "display_data"
    }
   ],
   "source": [
    "plt.figure()\n",
    "lw = 2\n",
    "plt.plot(fpr, tpr, color='darkorange',\n",
    "         lw=lw, label='ROC curve (area = %0.2f)' % roc_auc)\n",
    "plt.plot([0, 1], [0, 1], color='navy', lw=lw, linestyle='--')\n",
    "plt.xlim([0.0, 1.0])\n",
    "plt.ylim([0.0, 1.05])\n",
    "plt.xlabel('False Positive Rate')\n",
    "plt.ylabel('True Positive Rate')\n",
    "plt.title('Receiver operating characteristic')\n",
    "plt.legend(loc=\"lower right\")\n",
    "plt.show()"
   ]
  },
  {
   "cell_type": "code",
   "execution_count": 99,
   "metadata": {
    "scrolled": true
   },
   "outputs": [
    {
     "data": {
      "text/plain": [
       "code\n",
       "1     1\n",
       "2    94\n",
       "3    86\n",
       "4     2\n",
       "5     5\n",
       "6     4\n",
       "n    30\n",
       "Name: BINARY_CODE, dtype: int64"
      ]
     },
     "execution_count": 99,
     "metadata": {},
     "output_type": "execute_result"
    }
   ],
   "source": [
    "test_df[test_df['BINARY_CODE']!=lr_predicted].groupby('code').count()['BINARY_CODE']"
   ]
  },
  {
   "cell_type": "code",
   "execution_count": 100,
   "metadata": {},
   "outputs": [
    {
     "name": "stdout",
     "output_type": "stream",
     "text": [
      "anti\n",
      "brutality\n",
      "bunch\n",
      "china\n",
      "christians\n",
      "cnn\n",
      "colluded\n",
      "colluding\n",
      "collusion\n",
      "complicit\n",
      "corporate\n",
      "corrupt\n",
      "crimea\n",
      "** critics\n",
      "dictator\n",
      "document\n",
      "election\n",
      "fake\n",
      "fake news\n",
      "feminist\n",
      "group\n",
      "** house\n",
      "illegal\n",
      "illegal immigrants\n",
      "japanese\n",
      "korean dictator\n",
      "mainstream\n",
      "mainstream media\n",
      "media\n",
      "north korean dictator\n",
      "number document\n",
      "** page\n",
      "plus\n",
      "police brutality\n",
      "** poor\n",
      "probe\n",
      "** radio\n",
      "right wing\n",
      "russia\n",
      "russia probe\n",
      "russian\n",
      "russian collusion\n",
      "russians\n",
      "spies\n",
      "unqualified\n",
      "want want\n",
      "** white house\n"
     ]
    }
   ],
   "source": [
    "for x, y in zip(count_vect.get_feature_names(), list(lr_clf.coef_[0])):\n",
    "    if y > 1.5:\n",
    "        print(x)\n",
    "    if y < -1.5:\n",
    "        print(\"**\", x)"
   ]
  },
  {
   "cell_type": "code",
   "execution_count": null,
   "metadata": {},
   "outputs": [],
   "source": []
  }
 ],
 "metadata": {
  "kernelspec": {
   "display_name": "Python 3",
   "language": "python",
   "name": "python3"
  },
  "language_info": {
   "codemirror_mode": {
    "name": "ipython",
    "version": 3
   },
   "file_extension": ".py",
   "mimetype": "text/x-python",
   "name": "python",
   "nbconvert_exporter": "python",
   "pygments_lexer": "ipython3",
   "version": "3.7.2"
  }
 },
 "nbformat": 4,
 "nbformat_minor": 2
}
